{
 "cells": [
  {
   "attachments": {},
   "cell_type": "markdown",
   "id": "e9e7bee8",
   "metadata": {},
   "source": [
    "# Análise de Dados com Python\n",
    "\n",
    "### Desafio:\n",
    "\n",
    "Você trabalha em uma empresa do varejo e tem milhares de clientes diferentes.\n",
    "\n",
    "Com o objetivo de aumentar o faturamento e o lucro da sua empresa, a diretoria quer conseguir identificar quem é o cliente ideal para seus produtos, baseado no histórico de compras dos clientes.\n",
    "\n",
    "Para isso, ela fez um trabalho de classificar os clientes com uma nota de 1 a 100. Só que agora, sobrou para você conseguir, a partir dessa nota, descobrir qual o perfil de cliente ideal da empresa.\n",
    "\n",
    "Qual a profissão? Qual a idade? Qual a faixa de renda? E todas as informações que você puder analisar para dizer qual o cliente ideal da empresa.\n",
    "\n",
    "Base de Dados: https://drive.google.com/drive/folders/1T7D0BlWkNuy_MDpUHuBG44kT80EmRYIs?usp=share_link"
   ]
  },
  {
   "cell_type": "code",
   "execution_count": null,
   "id": "3b79c8b2",
   "metadata": {},
   "outputs": [],
   "source": [
    "# Passo 1: Importar a base de dados\n",
    "#pd.read + TAB = para encontrar os formatos que  o panda pode lerr\n",
    "#encoding para poder palavras em latim como caracteres especiais\n",
    "import pandas as pd\n",
    "\n",
    "tabela = pd.read_csv(\"clientes.csv\", encoding=\"latin\", sep=\";\")\n",
    "\n",
    "# deletar coluna inutil\n",
    "#axis = 0 -> deletar uma linha\n",
    "#axis = 1 -> deletar uma coluna\n",
    "tabela = tabela.drop(\"Unnamed: 8\", axis=1)\n",
    "\n",
    "# Passo 2: Visualizar a base de dados\n",
    "    # Entender as informações que você tem disponível\n",
    "    # Procurar cagadas na base de dados\n",
    "display(tabela)\n",
    "\n",
    "\n"
   ]
  },
  {
   "cell_type": "code",
   "execution_count": null,
   "id": "6969d49b",
   "metadata": {},
   "outputs": [],
   "source": [
    "# Passo 3: Tratamento de Dados\n",
    "    # valores no formato errado\n",
    "    # pd.to_numeric = mudar o formato\n",
    "    # errors=\"coerce\" = forçar a arrumar o erro, deixando ele vazio\n",
    "tabela[\"Salário Anual (R$)\"] = pd.to_numeric(tabela[\"Salário Anual (R$)\"], errors=\"coerce\")\n",
    "    # valores vazios\n",
    "    # tabela.dropna = jogar os valores vazios fora\n",
    "tabela = tabela.dropna()\n",
    "print(tabela.info())"
   ]
  },
  {
   "cell_type": "code",
   "execution_count": null,
   "id": "984e7cac",
   "metadata": {},
   "outputs": [],
   "source": [
    "# Passo 4: Analise inicial = entender como estão as notas dos clientes\n",
    "display(tabela.describe())"
   ]
  },
  {
   "cell_type": "code",
   "execution_count": null,
   "id": "599d6e73",
   "metadata": {},
   "outputs": [],
   "source": [
    "# Passo 5: Análise Completa -> entender como cada característica do cliente impacta na nota!pip install pyautogui\n",
    "import plotly.express as px\n",
    "\n",
    "for coluna in tabela.columns:\n",
    "    # criar o grafico\n",
    "    grafico = px.histogram(tabela, x=coluna, y=\"Nota (1-100)\", histfunc=\"avg\", text_auto=True, nbins=10)\n",
    "\n",
    "    # exibe o grafico\n",
    "    grafico.show()\n",
    "\n"
   ]
  },
  {
   "cell_type": "code",
   "execution_count": 1,
   "id": "afcbe830",
   "metadata": {},
   "outputs": [
    {
     "name": "stdout",
     "output_type": "stream",
     "text": [
      "Requirement already satisfied: plotly in c:\\users\\victor\\appdata\\local\\programs\\python\\python311\\lib\\site-packages (5.14.1)\n",
      "Requirement already satisfied: tenacity>=6.2.0 in c:\\users\\victor\\appdata\\local\\programs\\python\\python311\\lib\\site-packages (from plotly) (8.2.2)\n",
      "Requirement already satisfied: packaging in c:\\users\\victor\\appdata\\roaming\\python\\python311\\site-packages (from plotly) (23.1)\n",
      "Requirement already satisfied: pyautogui in c:\\users\\victor\\appdata\\local\\programs\\python\\python311\\lib\\site-packages (0.9.53)\n",
      "Requirement already satisfied: pymsgbox in c:\\users\\victor\\appdata\\local\\programs\\python\\python311\\lib\\site-packages (from pyautogui) (1.0.9)\n",
      "Requirement already satisfied: PyTweening>=1.0.1 in c:\\users\\victor\\appdata\\local\\programs\\python\\python311\\lib\\site-packages (from pyautogui) (1.0.7)\n",
      "Requirement already satisfied: pyscreeze>=0.1.21 in c:\\users\\victor\\appdata\\local\\programs\\python\\python311\\lib\\site-packages (from pyautogui) (0.1.28)\n",
      "Requirement already satisfied: pygetwindow>=0.0.5 in c:\\users\\victor\\appdata\\local\\programs\\python\\python311\\lib\\site-packages (from pyautogui) (0.0.9)\n",
      "Requirement already satisfied: mouseinfo in c:\\users\\victor\\appdata\\local\\programs\\python\\python311\\lib\\site-packages (from pyautogui) (0.1.3)\n",
      "Requirement already satisfied: pyrect in c:\\users\\victor\\appdata\\local\\programs\\python\\python311\\lib\\site-packages (from pygetwindow>=0.0.5->pyautogui) (0.2.0)\n",
      "Requirement already satisfied: pyperclip in c:\\users\\victor\\appdata\\local\\programs\\python\\python311\\lib\\site-packages (from mouseinfo->pyautogui) (1.8.2)\n",
      "Requirement already satisfied: pandas in c:\\users\\victor\\appdata\\local\\programs\\python\\python311\\lib\\site-packages (2.0.1)\n",
      "Requirement already satisfied: python-dateutil>=2.8.2 in c:\\users\\victor\\appdata\\roaming\\python\\python311\\site-packages (from pandas) (2.8.2)\n",
      "Requirement already satisfied: pytz>=2020.1 in c:\\users\\victor\\appdata\\local\\programs\\python\\python311\\lib\\site-packages (from pandas) (2023.3)\n",
      "Requirement already satisfied: tzdata>=2022.1 in c:\\users\\victor\\appdata\\local\\programs\\python\\python311\\lib\\site-packages (from pandas) (2023.3)\n",
      "Requirement already satisfied: numpy>=1.21.0 in c:\\users\\victor\\appdata\\local\\programs\\python\\python311\\lib\\site-packages (from pandas) (1.24.3)\n",
      "Requirement already satisfied: six>=1.5 in c:\\users\\victor\\appdata\\roaming\\python\\python311\\site-packages (from python-dateutil>=2.8.2->pandas) (1.16.0)\n",
      "Requirement already satisfied: openpyxl in c:\\users\\victor\\appdata\\local\\programs\\python\\python311\\lib\\site-packages (3.1.2)\n",
      "Requirement already satisfied: et-xmlfile in c:\\users\\victor\\appdata\\local\\programs\\python\\python311\\lib\\site-packages (from openpyxl) (1.1.0)\n",
      "Requirement already satisfied: numpy in c:\\users\\victor\\appdata\\local\\programs\\python\\python311\\lib\\site-packages (1.24.3)\n"
     ]
    }
   ],
   "source": [
    "!pip install plotly\n",
    "\n",
    "!pip install pyautogui\n",
    "\n",
    "!pip install pandas\n",
    "\n",
    "!pip install openpyxl\n",
    "\n",
    "!pip install numpy"
   ]
  },
  {
   "cell_type": "code",
   "execution_count": null,
   "id": "3ba8cdf5",
   "metadata": {},
   "outputs": [],
   "source": [
    "# Perfil ideal de cliente\n",
    "# Acima de 15 anos (não tem muita diferença entra as faixas etárias depois disso)\n",
    "# Faixa salarial não parece fazer tanta diferença\n",
    "# Áreas de trabalho: Entretenimento e Artista (evitar Construção)\n",
    "# Tem entre 10 e 15 anos de experiência\n",
    "# Com familías não tão grandes (até no máximo 7 pessoas)"
   ]
  }
 ],
 "metadata": {
  "kernelspec": {
   "display_name": "Python 3 (ipykernel)",
   "language": "python",
   "name": "python3"
  },
  "language_info": {
   "codemirror_mode": {
    "name": "ipython",
    "version": 3
   },
   "file_extension": ".py",
   "mimetype": "text/x-python",
   "name": "python",
   "nbconvert_exporter": "python",
   "pygments_lexer": "ipython3",
   "version": "3.11.3"
  }
 },
 "nbformat": 4,
 "nbformat_minor": 5
}
